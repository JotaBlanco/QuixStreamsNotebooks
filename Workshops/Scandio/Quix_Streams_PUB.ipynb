{
  "nbformat": 4,
  "nbformat_minor": 0,
  "metadata": {
    "colab": {
      "provenance": [],
      "toc_visible": true,
      "include_colab_link": true
    },
    "kernelspec": {
      "name": "python3",
      "display_name": "Python 3"
    },
    "language_info": {
      "name": "python"
    }
  },
  "cells": [
    {
      "cell_type": "markdown",
      "metadata": {
        "id": "view-in-github",
        "colab_type": "text"
      },
      "source": [
        "<a href=\"https://colab.research.google.com/github/JotaBlanco/QuixStreamsNotebooks/blob/main/Workshops/Scandio/Quix_Streams_PUB.ipynb\" target=\"_parent\"><img src=\"https://colab.research.google.com/assets/colab-badge.svg\" alt=\"Open In Colab\"/></a>"
      ]
    },
    {
      "cell_type": "markdown",
      "source": [
        "# Install Quix Streams\n",
        "Just use pip install to download the Quix Streams library.\n",
        "\n",
        "[Quix Streams](https://github.com/quixio/quix-streams) is an open source Python library for processing streaming data. It’s aimed at people who work with time-series data streams — from developers and ML engineers to data scientists and data engineers."
      ],
      "metadata": {
        "id": "xIaLLhNZeuTK"
      }
    },
    {
      "cell_type": "code",
      "execution_count": 1,
      "metadata": {
        "id": "rM8eAVmnepVy",
        "outputId": "f701a7d1-1800-4560-f930-ca7b34f2150a",
        "colab": {
          "base_uri": "https://localhost:8080/"
        }
      },
      "outputs": [
        {
          "output_type": "stream",
          "name": "stdout",
          "text": [
            "Looking in indexes: https://pypi.org/simple, https://us-python.pkg.dev/colab-wheels/public/simple/\n",
            "Collecting quixstreams\n",
            "  Downloading quixstreams-0.5.4-py3-none-manylinux2014_x86_64.whl (30.8 MB)\n",
            "\u001b[2K     \u001b[90m━━━━━━━━━━━━━━━━━━━━━━━━━━━━━━━━━━━━━━━━\u001b[0m \u001b[32m30.8/30.8 MB\u001b[0m \u001b[31m16.4 MB/s\u001b[0m eta \u001b[36m0:00:00\u001b[0m\n",
            "\u001b[?25hRequirement already satisfied: pandas<2,>=1.0.0 in /usr/local/lib/python3.10/dist-packages (from quixstreams) (1.5.3)\n",
            "Collecting Deprecated<2,>=1.1 (from quixstreams)\n",
            "  Downloading Deprecated-1.2.14-py2.py3-none-any.whl (9.6 kB)\n",
            "Requirement already satisfied: wrapt<2,>=1.10 in /usr/local/lib/python3.10/dist-packages (from Deprecated<2,>=1.1->quixstreams) (1.14.1)\n",
            "Requirement already satisfied: python-dateutil>=2.8.1 in /usr/local/lib/python3.10/dist-packages (from pandas<2,>=1.0.0->quixstreams) (2.8.2)\n",
            "Requirement already satisfied: pytz>=2020.1 in /usr/local/lib/python3.10/dist-packages (from pandas<2,>=1.0.0->quixstreams) (2022.7.1)\n",
            "Requirement already satisfied: numpy>=1.21.0 in /usr/local/lib/python3.10/dist-packages (from pandas<2,>=1.0.0->quixstreams) (1.22.4)\n",
            "Requirement already satisfied: six>=1.5 in /usr/local/lib/python3.10/dist-packages (from python-dateutil>=2.8.1->pandas<2,>=1.0.0->quixstreams) (1.16.0)\n",
            "Installing collected packages: Deprecated, quixstreams\n",
            "Successfully installed Deprecated-1.2.14 quixstreams-0.5.4\n"
          ]
        }
      ],
      "source": [
        "! pip install quixstreams"
      ]
    },
    {
      "cell_type": "markdown",
      "source": [
        "# Import the libraries\n",
        "We will be using mainly pandas, quix, matplotlib and seaborn."
      ],
      "metadata": {
        "id": "qgkdL-bxe1EE"
      }
    },
    {
      "cell_type": "code",
      "source": [
        "import pandas as pd\n",
        "import quixstreams as qx"
      ],
      "metadata": {
        "id": "TPppt6CqezXE"
      },
      "execution_count": 2,
      "outputs": []
    },
    {
      "cell_type": "markdown",
      "source": [
        "# 1 - Create client\n",
        "Let's start by creating a Quix client that we'll use to publish and subscribe to Kafka topics."
      ],
      "metadata": {
        "id": "TCsYuP_ciF04"
      }
    },
    {
      "cell_type": "code",
      "source": [
        "# Initiating Quix managed token, but it could be your own kafka\n",
        "token = 'sdk-296f2b9decff4770a525ff7d8855a78d'\n",
        "client = qx.QuixStreamingClient(token)\n",
        "client"
      ],
      "metadata": {
        "id": "IIaACdc_e5MM",
        "outputId": "b673a3d3-abf1-47f0-d690-fd6894cbe657",
        "colab": {
          "base_uri": "https://localhost:8080/"
        }
      },
      "execution_count": 3,
      "outputs": [
        {
          "output_type": "execute_result",
          "data": {
            "text/plain": [
              "<quixstreams.quixstreamingclient.QuixStreamingClient at 0x7fd5be59c160>"
            ]
          },
          "metadata": {},
          "execution_count": 3
        }
      ]
    },
    {
      "cell_type": "markdown",
      "source": [
        "# 2 - Producer client\n",
        "To publish data to one topic, we will need to create a producer client pointing to that topic."
      ],
      "metadata": {
        "id": "tmIXVN2ow7e0"
      }
    },
    {
      "cell_type": "code",
      "source": [
        "topic_name = \"test-topic\"\n",
        "topic_producer = client.get_topic_producer(topic_name)\n",
        "topic_producer"
      ],
      "metadata": {
        "id": "4shtFNDUo6Qo",
        "outputId": "af5e399e-8a8f-4b45-89a4-2743c2dc2623",
        "colab": {
          "base_uri": "https://localhost:8080/"
        }
      },
      "execution_count": 4,
      "outputs": [
        {
          "output_type": "execute_result",
          "data": {
            "text/plain": [
              "<quixstreams.topicproducer.TopicProducer at 0x7fe0be362ad0>"
            ]
          },
          "metadata": {},
          "execution_count": 4
        }
      ]
    },
    {
      "cell_type": "markdown",
      "source": [
        "# 3 - Streams\n",
        "Streams are ways to distribute the messages load into a topic very efficiently, allowing escalation whilst ensuring chronolofical order. Streams are to topics what road lines are to highways.\n",
        "We don't need many streams yet, but let's see how they are created:"
      ],
      "metadata": {
        "id": "_prbdjkpyLU8"
      }
    },
    {
      "cell_type": "code",
      "source": [
        "stream_id = \"test-stream_1\"\n",
        "test_stream_1 = topic_producer.create_stream(stream_id)\n",
        "test_stream_1"
      ],
      "metadata": {
        "id": "f7laCKv1xEe3",
        "outputId": "fa08736f-d398-4512-bc78-470f42989ca2",
        "colab": {
          "base_uri": "https://localhost:8080/"
        }
      },
      "execution_count": 5,
      "outputs": [
        {
          "output_type": "execute_result",
          "data": {
            "text/plain": [
              "<quixstreams.streamproducer.StreamProducer at 0x7fd5be59c1f0>"
            ]
          },
          "metadata": {},
          "execution_count": 5
        }
      ]
    },
    {
      "cell_type": "markdown",
      "source": [
        "You can add properties to streams, like names and metadata."
      ],
      "metadata": {
        "id": "WgVcZSxoyk7g"
      }
    },
    {
      "cell_type": "code",
      "source": [
        "test_stream_1.properties.name = \"Tutorial Test Stream 1\"\n",
        "test_stream_1.properties.metadata[\"Test Number\"] = \"1\""
      ],
      "metadata": {
        "id": "JBqTqPUiyiwU"
      },
      "execution_count": 6,
      "outputs": []
    },
    {
      "cell_type": "markdown",
      "source": [
        "# 4 - Data format\n",
        "There are two data formats Quix Stream can use to publish data to topics:"
      ],
      "metadata": {
        "id": "tkWGBTntypzc"
      }
    },
    {
      "cell_type": "markdown",
      "source": [
        "## 4.1 TimeseriesData\n",
        "TimeseriesData is the formal class in Quix Streams which represents a time series data packet in memory. The format consists of a list of Timestamps with their corresponding parameter names and values for each timestamp.\n",
        "\n",
        "You should imagine a TimeseriesData as a table where the Timestamp is the first column of that table and where the parameters are the columns for the values of that table."
      ],
      "metadata": {
        "id": "pziUUpTwDyrY"
      }
    },
    {
      "cell_type": "code",
      "source": [
        "# This dataframe follows the proper TimeseriesData format: timestamp and different parameters\n",
        "df = pd.DataFrame({\n",
        "    \"Timestamp\": [pd.Timestamp.now(), pd.Timestamp.now() + pd.Timedelta(\"5sec\")],\n",
        "    \"Param A\": [10, 20],\n",
        "    \"Column B\": [12, 9]\n",
        "})\n",
        "df"
      ],
      "metadata": {
        "id": "L_8jGMBry5u0",
        "outputId": "8ae9606f-eeb2-45c7-e781-0d7e6f9edf45",
        "colab": {
          "base_uri": "https://localhost:8080/",
          "height": 112
        }
      },
      "execution_count": 7,
      "outputs": [
        {
          "output_type": "execute_result",
          "data": {
            "text/plain": [
              "                   Timestamp  Param A  Column B\n",
              "0 2023-06-13 10:49:00.225477       10        12\n",
              "1 2023-06-13 10:49:05.225550       20         9"
            ],
            "text/html": [
              "\n",
              "  <div id=\"df-e6d1b3c4-5e18-475b-8ff7-ec17c00b06d5\">\n",
              "    <div class=\"colab-df-container\">\n",
              "      <div>\n",
              "<style scoped>\n",
              "    .dataframe tbody tr th:only-of-type {\n",
              "        vertical-align: middle;\n",
              "    }\n",
              "\n",
              "    .dataframe tbody tr th {\n",
              "        vertical-align: top;\n",
              "    }\n",
              "\n",
              "    .dataframe thead th {\n",
              "        text-align: right;\n",
              "    }\n",
              "</style>\n",
              "<table border=\"1\" class=\"dataframe\">\n",
              "  <thead>\n",
              "    <tr style=\"text-align: right;\">\n",
              "      <th></th>\n",
              "      <th>Timestamp</th>\n",
              "      <th>Param A</th>\n",
              "      <th>Column B</th>\n",
              "    </tr>\n",
              "  </thead>\n",
              "  <tbody>\n",
              "    <tr>\n",
              "      <th>0</th>\n",
              "      <td>2023-06-13 10:49:00.225477</td>\n",
              "      <td>10</td>\n",
              "      <td>12</td>\n",
              "    </tr>\n",
              "    <tr>\n",
              "      <th>1</th>\n",
              "      <td>2023-06-13 10:49:05.225550</td>\n",
              "      <td>20</td>\n",
              "      <td>9</td>\n",
              "    </tr>\n",
              "  </tbody>\n",
              "</table>\n",
              "</div>\n",
              "      <button class=\"colab-df-convert\" onclick=\"convertToInteractive('df-e6d1b3c4-5e18-475b-8ff7-ec17c00b06d5')\"\n",
              "              title=\"Convert this dataframe to an interactive table.\"\n",
              "              style=\"display:none;\">\n",
              "        \n",
              "  <svg xmlns=\"http://www.w3.org/2000/svg\" height=\"24px\"viewBox=\"0 0 24 24\"\n",
              "       width=\"24px\">\n",
              "    <path d=\"M0 0h24v24H0V0z\" fill=\"none\"/>\n",
              "    <path d=\"M18.56 5.44l.94 2.06.94-2.06 2.06-.94-2.06-.94-.94-2.06-.94 2.06-2.06.94zm-11 1L8.5 8.5l.94-2.06 2.06-.94-2.06-.94L8.5 2.5l-.94 2.06-2.06.94zm10 10l.94 2.06.94-2.06 2.06-.94-2.06-.94-.94-2.06-.94 2.06-2.06.94z\"/><path d=\"M17.41 7.96l-1.37-1.37c-.4-.4-.92-.59-1.43-.59-.52 0-1.04.2-1.43.59L10.3 9.45l-7.72 7.72c-.78.78-.78 2.05 0 2.83L4 21.41c.39.39.9.59 1.41.59.51 0 1.02-.2 1.41-.59l7.78-7.78 2.81-2.81c.8-.78.8-2.07 0-2.86zM5.41 20L4 18.59l7.72-7.72 1.47 1.35L5.41 20z\"/>\n",
              "  </svg>\n",
              "      </button>\n",
              "      \n",
              "  <style>\n",
              "    .colab-df-container {\n",
              "      display:flex;\n",
              "      flex-wrap:wrap;\n",
              "      gap: 12px;\n",
              "    }\n",
              "\n",
              "    .colab-df-convert {\n",
              "      background-color: #E8F0FE;\n",
              "      border: none;\n",
              "      border-radius: 50%;\n",
              "      cursor: pointer;\n",
              "      display: none;\n",
              "      fill: #1967D2;\n",
              "      height: 32px;\n",
              "      padding: 0 0 0 0;\n",
              "      width: 32px;\n",
              "    }\n",
              "\n",
              "    .colab-df-convert:hover {\n",
              "      background-color: #E2EBFA;\n",
              "      box-shadow: 0px 1px 2px rgba(60, 64, 67, 0.3), 0px 1px 3px 1px rgba(60, 64, 67, 0.15);\n",
              "      fill: #174EA6;\n",
              "    }\n",
              "\n",
              "    [theme=dark] .colab-df-convert {\n",
              "      background-color: #3B4455;\n",
              "      fill: #D2E3FC;\n",
              "    }\n",
              "\n",
              "    [theme=dark] .colab-df-convert:hover {\n",
              "      background-color: #434B5C;\n",
              "      box-shadow: 0px 1px 3px 1px rgba(0, 0, 0, 0.15);\n",
              "      filter: drop-shadow(0px 1px 2px rgba(0, 0, 0, 0.3));\n",
              "      fill: #FFFFFF;\n",
              "    }\n",
              "  </style>\n",
              "\n",
              "      <script>\n",
              "        const buttonEl =\n",
              "          document.querySelector('#df-e6d1b3c4-5e18-475b-8ff7-ec17c00b06d5 button.colab-df-convert');\n",
              "        buttonEl.style.display =\n",
              "          google.colab.kernel.accessAllowed ? 'block' : 'none';\n",
              "\n",
              "        async function convertToInteractive(key) {\n",
              "          const element = document.querySelector('#df-e6d1b3c4-5e18-475b-8ff7-ec17c00b06d5');\n",
              "          const dataTable =\n",
              "            await google.colab.kernel.invokeFunction('convertToInteractive',\n",
              "                                                     [key], {});\n",
              "          if (!dataTable) return;\n",
              "\n",
              "          const docLinkHtml = 'Like what you see? Visit the ' +\n",
              "            '<a target=\"_blank\" href=https://colab.research.google.com/notebooks/data_table.ipynb>data table notebook</a>'\n",
              "            + ' to learn more about interactive tables.';\n",
              "          element.innerHTML = '';\n",
              "          dataTable['output_type'] = 'display_data';\n",
              "          await google.colab.output.renderOutput(dataTable, element);\n",
              "          const docLink = document.createElement('div');\n",
              "          docLink.innerHTML = docLinkHtml;\n",
              "          element.appendChild(docLink);\n",
              "        }\n",
              "      </script>\n",
              "    </div>\n",
              "  </div>\n",
              "  "
            ]
          },
          "metadata": {},
          "execution_count": 7
        }
      ]
    },
    {
      "cell_type": "code",
      "source": [
        "# This is the actual way to define a qx.TimeseriesData object for that same data\n",
        "timeseries_data = qx.TimeseriesData()\n",
        "timeseries_data.add_timestamp(pd.Timestamp.now()) \\\n",
        "                .add_value(\"Param A\", 10) \\\n",
        "                .add_value(\"Column B\", 12)\n",
        "timeseries_data.add_timestamp(pd.Timestamp.now() + pd.Timedelta(\"5sec\")) \\\n",
        "                .add_value(\"Param A\", 20) \\\n",
        "                .add_value(\"Column B\", 9)"
      ],
      "metadata": {
        "id": "LYXIM2hZy7yD",
        "outputId": "19ffb813-5fd2-43f8-9257-d25e598f9131",
        "colab": {
          "base_uri": "https://localhost:8080/"
        }
      },
      "execution_count": 8,
      "outputs": [
        {
          "output_type": "execute_result",
          "data": {
            "text/plain": [
              "<quixstreams.models.timeseriesdatatimestamp.TimeseriesDataTimestamp at 0x7fd5bc335420>"
            ]
          },
          "metadata": {},
          "execution_count": 8
        }
      ]
    },
    {
      "cell_type": "markdown",
      "source": [
        "Conversions between qx.TimeseriesData and pd.Dataframe formats are easy:"
      ],
      "metadata": {
        "id": "bNCPG7xDEpd9"
      }
    },
    {
      "cell_type": "code",
      "source": [
        "timeseries_data.to_dataframe()"
      ],
      "metadata": {
        "id": "CQhqmdDIFTdt",
        "outputId": "e4fe750a-65a8-4ca6-aacb-54f391bca2f9",
        "colab": {
          "base_uri": "https://localhost:8080/",
          "height": 112
        }
      },
      "execution_count": 9,
      "outputs": [
        {
          "output_type": "execute_result",
          "data": {
            "text/plain": [
              "             timestamp  Param A  Column B\n",
              "0  1686653385383974000     10.0      12.0\n",
              "1  1686653390384630000     20.0       9.0"
            ],
            "text/html": [
              "\n",
              "  <div id=\"df-5d6406c6-c919-43e3-9b52-ee5f5e34d7e0\">\n",
              "    <div class=\"colab-df-container\">\n",
              "      <div>\n",
              "<style scoped>\n",
              "    .dataframe tbody tr th:only-of-type {\n",
              "        vertical-align: middle;\n",
              "    }\n",
              "\n",
              "    .dataframe tbody tr th {\n",
              "        vertical-align: top;\n",
              "    }\n",
              "\n",
              "    .dataframe thead th {\n",
              "        text-align: right;\n",
              "    }\n",
              "</style>\n",
              "<table border=\"1\" class=\"dataframe\">\n",
              "  <thead>\n",
              "    <tr style=\"text-align: right;\">\n",
              "      <th></th>\n",
              "      <th>timestamp</th>\n",
              "      <th>Param A</th>\n",
              "      <th>Column B</th>\n",
              "    </tr>\n",
              "  </thead>\n",
              "  <tbody>\n",
              "    <tr>\n",
              "      <th>0</th>\n",
              "      <td>1686653385383974000</td>\n",
              "      <td>10.0</td>\n",
              "      <td>12.0</td>\n",
              "    </tr>\n",
              "    <tr>\n",
              "      <th>1</th>\n",
              "      <td>1686653390384630000</td>\n",
              "      <td>20.0</td>\n",
              "      <td>9.0</td>\n",
              "    </tr>\n",
              "  </tbody>\n",
              "</table>\n",
              "</div>\n",
              "      <button class=\"colab-df-convert\" onclick=\"convertToInteractive('df-5d6406c6-c919-43e3-9b52-ee5f5e34d7e0')\"\n",
              "              title=\"Convert this dataframe to an interactive table.\"\n",
              "              style=\"display:none;\">\n",
              "        \n",
              "  <svg xmlns=\"http://www.w3.org/2000/svg\" height=\"24px\"viewBox=\"0 0 24 24\"\n",
              "       width=\"24px\">\n",
              "    <path d=\"M0 0h24v24H0V0z\" fill=\"none\"/>\n",
              "    <path d=\"M18.56 5.44l.94 2.06.94-2.06 2.06-.94-2.06-.94-.94-2.06-.94 2.06-2.06.94zm-11 1L8.5 8.5l.94-2.06 2.06-.94-2.06-.94L8.5 2.5l-.94 2.06-2.06.94zm10 10l.94 2.06.94-2.06 2.06-.94-2.06-.94-.94-2.06-.94 2.06-2.06.94z\"/><path d=\"M17.41 7.96l-1.37-1.37c-.4-.4-.92-.59-1.43-.59-.52 0-1.04.2-1.43.59L10.3 9.45l-7.72 7.72c-.78.78-.78 2.05 0 2.83L4 21.41c.39.39.9.59 1.41.59.51 0 1.02-.2 1.41-.59l7.78-7.78 2.81-2.81c.8-.78.8-2.07 0-2.86zM5.41 20L4 18.59l7.72-7.72 1.47 1.35L5.41 20z\"/>\n",
              "  </svg>\n",
              "      </button>\n",
              "      \n",
              "  <style>\n",
              "    .colab-df-container {\n",
              "      display:flex;\n",
              "      flex-wrap:wrap;\n",
              "      gap: 12px;\n",
              "    }\n",
              "\n",
              "    .colab-df-convert {\n",
              "      background-color: #E8F0FE;\n",
              "      border: none;\n",
              "      border-radius: 50%;\n",
              "      cursor: pointer;\n",
              "      display: none;\n",
              "      fill: #1967D2;\n",
              "      height: 32px;\n",
              "      padding: 0 0 0 0;\n",
              "      width: 32px;\n",
              "    }\n",
              "\n",
              "    .colab-df-convert:hover {\n",
              "      background-color: #E2EBFA;\n",
              "      box-shadow: 0px 1px 2px rgba(60, 64, 67, 0.3), 0px 1px 3px 1px rgba(60, 64, 67, 0.15);\n",
              "      fill: #174EA6;\n",
              "    }\n",
              "\n",
              "    [theme=dark] .colab-df-convert {\n",
              "      background-color: #3B4455;\n",
              "      fill: #D2E3FC;\n",
              "    }\n",
              "\n",
              "    [theme=dark] .colab-df-convert:hover {\n",
              "      background-color: #434B5C;\n",
              "      box-shadow: 0px 1px 3px 1px rgba(0, 0, 0, 0.15);\n",
              "      filter: drop-shadow(0px 1px 2px rgba(0, 0, 0, 0.3));\n",
              "      fill: #FFFFFF;\n",
              "    }\n",
              "  </style>\n",
              "\n",
              "      <script>\n",
              "        const buttonEl =\n",
              "          document.querySelector('#df-5d6406c6-c919-43e3-9b52-ee5f5e34d7e0 button.colab-df-convert');\n",
              "        buttonEl.style.display =\n",
              "          google.colab.kernel.accessAllowed ? 'block' : 'none';\n",
              "\n",
              "        async function convertToInteractive(key) {\n",
              "          const element = document.querySelector('#df-5d6406c6-c919-43e3-9b52-ee5f5e34d7e0');\n",
              "          const dataTable =\n",
              "            await google.colab.kernel.invokeFunction('convertToInteractive',\n",
              "                                                     [key], {});\n",
              "          if (!dataTable) return;\n",
              "\n",
              "          const docLinkHtml = 'Like what you see? Visit the ' +\n",
              "            '<a target=\"_blank\" href=https://colab.research.google.com/notebooks/data_table.ipynb>data table notebook</a>'\n",
              "            + ' to learn more about interactive tables.';\n",
              "          element.innerHTML = '';\n",
              "          dataTable['output_type'] = 'display_data';\n",
              "          await google.colab.output.renderOutput(dataTable, element);\n",
              "          const docLink = document.createElement('div');\n",
              "          docLink.innerHTML = docLinkHtml;\n",
              "          element.appendChild(docLink);\n",
              "        }\n",
              "      </script>\n",
              "    </div>\n",
              "  </div>\n",
              "  "
            ]
          },
          "metadata": {},
          "execution_count": 9
        }
      ]
    },
    {
      "cell_type": "code",
      "source": [
        "qx.TimeseriesData.from_panda_dataframe(df)"
      ],
      "metadata": {
        "id": "rmFthI9aFZBm",
        "outputId": "f4aa086f-6d7d-43f4-f696-b39e441eb3e7",
        "colab": {
          "base_uri": "https://localhost:8080/"
        }
      },
      "execution_count": 10,
      "outputs": [
        {
          "output_type": "execute_result",
          "data": {
            "text/plain": [
              "<quixstreams.models.timeseriesdata.TimeseriesData at 0x7fd5be59c640>"
            ]
          },
          "metadata": {},
          "execution_count": 10
        }
      ]
    },
    {
      "cell_type": "markdown",
      "source": [
        "## 4.2 EventData\n",
        "EventData consists of a record with a Timestamp, an EventId and an EventValue.\n",
        "\n",
        "You should imagine a list of EventData instances as a simple table of three columns where the Timestamp is the first column of that table and the EventId and EventValue are the second and third columns, as shown in the following table."
      ],
      "metadata": {
        "id": "qhnoFDqnGDFC"
      }
    },
    {
      "cell_type": "code",
      "source": [
        "event_data_1 = qx.EventData(\n",
        "    event_id = \"Door Open\",\n",
        "    time = pd.Timestamp.now(),\n",
        "    value = \"The front door of the house has just been open\")\n",
        "event_data_1"
      ],
      "metadata": {
        "id": "wF-JFukAGZ6r",
        "outputId": "11c131af-4b77-48bf-a007-643e92b793ac",
        "colab": {
          "base_uri": "https://localhost:8080/"
        }
      },
      "execution_count": 11,
      "outputs": [
        {
          "output_type": "execute_result",
          "data": {
            "text/plain": [
              "<quixstreams.models.eventdata.EventData at 0x7fd5be59fb50>"
            ]
          },
          "metadata": {},
          "execution_count": 11
        }
      ]
    },
    {
      "cell_type": "code",
      "source": [
        "event_data_2 = qx.EventData(\n",
        "    event_id = \"Door Closed\",\n",
        "    time = pd.Timestamp.now(),\n",
        "    value = \"The front door of the house is back to closed state\")\n",
        "event_data_2"
      ],
      "metadata": {
        "id": "yXdNwC0GGZ-Z",
        "outputId": "ecd7c0be-d67c-40a4-e166-4c3e9ca5a067",
        "colab": {
          "base_uri": "https://localhost:8080/"
        }
      },
      "execution_count": 12,
      "outputs": [
        {
          "output_type": "execute_result",
          "data": {
            "text/plain": [
              "<quixstreams.models.eventdata.EventData at 0x7fd5be59df00>"
            ]
          },
          "metadata": {},
          "execution_count": 12
        }
      ]
    },
    {
      "cell_type": "markdown",
      "source": [
        "# 5 - Publish data to the topic\n",
        "Let's publish each of the data messages created to one stream now:"
      ],
      "metadata": {
        "id": "ZhouyK-BzDWf"
      }
    },
    {
      "cell_type": "markdown",
      "source": [
        "## 5.1 TimeseriesData\n",
        "Let's see how to publish the TimeseriesData object we created earlier."
      ],
      "metadata": {
        "id": "wBOjJxFgJk6y"
      }
    },
    {
      "cell_type": "code",
      "source": [
        "timeseries_data"
      ],
      "metadata": {
        "id": "pHNFKRBeJ-xF",
        "outputId": "c2b2d206-cda0-473c-80ad-8ff2891ba7fb",
        "colab": {
          "base_uri": "https://localhost:8080/"
        }
      },
      "execution_count": 13,
      "outputs": [
        {
          "output_type": "execute_result",
          "data": {
            "text/plain": [
              "<quixstreams.models.timeseriesdata.TimeseriesData at 0x7fd5bc334bb0>"
            ]
          },
          "metadata": {},
          "execution_count": 13
        }
      ]
    },
    {
      "cell_type": "code",
      "source": [
        "# Publishing it to stream 1\n",
        "test_stream_1.timeseries.publish(timeseries_data)"
      ],
      "metadata": {
        "id": "fWhWnjNUy-7o"
      },
      "execution_count": 14,
      "outputs": []
    },
    {
      "cell_type": "code",
      "source": [
        "# Also, pd.DataFrame objects can be published very simply\n",
        "# (conversion to qx.TimeseriesData object is done automatically)\n",
        "df"
      ],
      "metadata": {
        "id": "CmcLJIssKKPO",
        "outputId": "3c321f81-c23e-43b4-9ff0-fee953c4be7e",
        "colab": {
          "base_uri": "https://localhost:8080/",
          "height": 112
        }
      },
      "execution_count": 15,
      "outputs": [
        {
          "output_type": "execute_result",
          "data": {
            "text/plain": [
              "                   Timestamp  Param A  Column B\n",
              "0 2023-06-13 10:49:00.225477       10        12\n",
              "1 2023-06-13 10:49:05.225550       20         9"
            ],
            "text/html": [
              "\n",
              "  <div id=\"df-6ab5aa3a-f1bb-4f13-b854-2a3cbc069042\">\n",
              "    <div class=\"colab-df-container\">\n",
              "      <div>\n",
              "<style scoped>\n",
              "    .dataframe tbody tr th:only-of-type {\n",
              "        vertical-align: middle;\n",
              "    }\n",
              "\n",
              "    .dataframe tbody tr th {\n",
              "        vertical-align: top;\n",
              "    }\n",
              "\n",
              "    .dataframe thead th {\n",
              "        text-align: right;\n",
              "    }\n",
              "</style>\n",
              "<table border=\"1\" class=\"dataframe\">\n",
              "  <thead>\n",
              "    <tr style=\"text-align: right;\">\n",
              "      <th></th>\n",
              "      <th>Timestamp</th>\n",
              "      <th>Param A</th>\n",
              "      <th>Column B</th>\n",
              "    </tr>\n",
              "  </thead>\n",
              "  <tbody>\n",
              "    <tr>\n",
              "      <th>0</th>\n",
              "      <td>2023-06-13 10:49:00.225477</td>\n",
              "      <td>10</td>\n",
              "      <td>12</td>\n",
              "    </tr>\n",
              "    <tr>\n",
              "      <th>1</th>\n",
              "      <td>2023-06-13 10:49:05.225550</td>\n",
              "      <td>20</td>\n",
              "      <td>9</td>\n",
              "    </tr>\n",
              "  </tbody>\n",
              "</table>\n",
              "</div>\n",
              "      <button class=\"colab-df-convert\" onclick=\"convertToInteractive('df-6ab5aa3a-f1bb-4f13-b854-2a3cbc069042')\"\n",
              "              title=\"Convert this dataframe to an interactive table.\"\n",
              "              style=\"display:none;\">\n",
              "        \n",
              "  <svg xmlns=\"http://www.w3.org/2000/svg\" height=\"24px\"viewBox=\"0 0 24 24\"\n",
              "       width=\"24px\">\n",
              "    <path d=\"M0 0h24v24H0V0z\" fill=\"none\"/>\n",
              "    <path d=\"M18.56 5.44l.94 2.06.94-2.06 2.06-.94-2.06-.94-.94-2.06-.94 2.06-2.06.94zm-11 1L8.5 8.5l.94-2.06 2.06-.94-2.06-.94L8.5 2.5l-.94 2.06-2.06.94zm10 10l.94 2.06.94-2.06 2.06-.94-2.06-.94-.94-2.06-.94 2.06-2.06.94z\"/><path d=\"M17.41 7.96l-1.37-1.37c-.4-.4-.92-.59-1.43-.59-.52 0-1.04.2-1.43.59L10.3 9.45l-7.72 7.72c-.78.78-.78 2.05 0 2.83L4 21.41c.39.39.9.59 1.41.59.51 0 1.02-.2 1.41-.59l7.78-7.78 2.81-2.81c.8-.78.8-2.07 0-2.86zM5.41 20L4 18.59l7.72-7.72 1.47 1.35L5.41 20z\"/>\n",
              "  </svg>\n",
              "      </button>\n",
              "      \n",
              "  <style>\n",
              "    .colab-df-container {\n",
              "      display:flex;\n",
              "      flex-wrap:wrap;\n",
              "      gap: 12px;\n",
              "    }\n",
              "\n",
              "    .colab-df-convert {\n",
              "      background-color: #E8F0FE;\n",
              "      border: none;\n",
              "      border-radius: 50%;\n",
              "      cursor: pointer;\n",
              "      display: none;\n",
              "      fill: #1967D2;\n",
              "      height: 32px;\n",
              "      padding: 0 0 0 0;\n",
              "      width: 32px;\n",
              "    }\n",
              "\n",
              "    .colab-df-convert:hover {\n",
              "      background-color: #E2EBFA;\n",
              "      box-shadow: 0px 1px 2px rgba(60, 64, 67, 0.3), 0px 1px 3px 1px rgba(60, 64, 67, 0.15);\n",
              "      fill: #174EA6;\n",
              "    }\n",
              "\n",
              "    [theme=dark] .colab-df-convert {\n",
              "      background-color: #3B4455;\n",
              "      fill: #D2E3FC;\n",
              "    }\n",
              "\n",
              "    [theme=dark] .colab-df-convert:hover {\n",
              "      background-color: #434B5C;\n",
              "      box-shadow: 0px 1px 3px 1px rgba(0, 0, 0, 0.15);\n",
              "      filter: drop-shadow(0px 1px 2px rgba(0, 0, 0, 0.3));\n",
              "      fill: #FFFFFF;\n",
              "    }\n",
              "  </style>\n",
              "\n",
              "      <script>\n",
              "        const buttonEl =\n",
              "          document.querySelector('#df-6ab5aa3a-f1bb-4f13-b854-2a3cbc069042 button.colab-df-convert');\n",
              "        buttonEl.style.display =\n",
              "          google.colab.kernel.accessAllowed ? 'block' : 'none';\n",
              "\n",
              "        async function convertToInteractive(key) {\n",
              "          const element = document.querySelector('#df-6ab5aa3a-f1bb-4f13-b854-2a3cbc069042');\n",
              "          const dataTable =\n",
              "            await google.colab.kernel.invokeFunction('convertToInteractive',\n",
              "                                                     [key], {});\n",
              "          if (!dataTable) return;\n",
              "\n",
              "          const docLinkHtml = 'Like what you see? Visit the ' +\n",
              "            '<a target=\"_blank\" href=https://colab.research.google.com/notebooks/data_table.ipynb>data table notebook</a>'\n",
              "            + ' to learn more about interactive tables.';\n",
              "          element.innerHTML = '';\n",
              "          dataTable['output_type'] = 'display_data';\n",
              "          await google.colab.output.renderOutput(dataTable, element);\n",
              "          const docLink = document.createElement('div');\n",
              "          docLink.innerHTML = docLinkHtml;\n",
              "          element.appendChild(docLink);\n",
              "        }\n",
              "      </script>\n",
              "    </div>\n",
              "  </div>\n",
              "  "
            ]
          },
          "metadata": {},
          "execution_count": 15
        }
      ]
    },
    {
      "cell_type": "code",
      "source": [
        "# Publishing it to stream 1\n",
        "test_stream_1.timeseries.publish(df)"
      ],
      "metadata": {
        "id": "z6usi8vrKKS4"
      },
      "execution_count": 16,
      "outputs": []
    },
    {
      "cell_type": "markdown",
      "source": [
        "## 5.2 EventData\n",
        "Let's now publish the EventData messages we created earlier:"
      ],
      "metadata": {
        "id": "XPnmPr3TKiTN"
      }
    },
    {
      "cell_type": "code",
      "source": [
        "# Publishing event 1 and event 2 to stream 1\n",
        "test_stream_1.events.publish(event_data_1)\n",
        "test_stream_1.events.publish(event_data_2)"
      ],
      "metadata": {
        "id": "g2B4GTRKKrq3"
      },
      "execution_count": 18,
      "outputs": []
    },
    {
      "cell_type": "code",
      "source": [],
      "metadata": {
        "id": "aatFBlC5JnR_"
      },
      "execution_count": null,
      "outputs": []
    }
  ]
}