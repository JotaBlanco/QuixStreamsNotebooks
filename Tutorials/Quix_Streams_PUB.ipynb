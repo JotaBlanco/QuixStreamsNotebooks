{
  "nbformat": 4,
  "nbformat_minor": 0,
  "metadata": {
    "colab": {
      "provenance": [],
      "toc_visible": true,
      "include_colab_link": true
    },
    "kernelspec": {
      "name": "python3",
      "display_name": "Python 3"
    },
    "language_info": {
      "name": "python"
    }
  },
  "cells": [
    {
      "cell_type": "markdown",
      "metadata": {
        "id": "view-in-github",
        "colab_type": "text"
      },
      "source": [
        "<a href=\"https://colab.research.google.com/github/JotaBlanco/QuixStreamsNotebooks/blob/main/Tutorials/Quix_Streams_PUB.ipynb\" target=\"_parent\"><img src=\"https://colab.research.google.com/assets/colab-badge.svg\" alt=\"Open In Colab\"/></a>"
      ]
    },
    {
      "cell_type": "markdown",
      "source": [
        "# Install Quix Streams\n",
        "Just use pip install to download the Quix Streams library. \n",
        "\n",
        "[Quix Streams](https://github.com/quixio/quix-streams) is an open source Python library for processing streaming data. It’s aimed at people who work with time-series data streams — from developers and ML engineers to data scientists and data engineers."
      ],
      "metadata": {
        "id": "xIaLLhNZeuTK"
      }
    },
    {
      "cell_type": "code",
      "execution_count": null,
      "metadata": {
        "colab": {
          "base_uri": "https://localhost:8080/"
        },
        "id": "rM8eAVmnepVy",
        "outputId": "3730e727-cee9-47ef-c20c-07037690c70e"
      },
      "outputs": [
        {
          "output_type": "stream",
          "name": "stdout",
          "text": [
            "Looking in indexes: https://pypi.org/simple, https://us-python.pkg.dev/colab-wheels/public/simple/\n",
            "Collecting quixstreams\n",
            "  Downloading quixstreams-0.5.0-py3-none-manylinux2014_x86_64.whl (47.8 MB)\n",
            "\u001b[2K     \u001b[90m━━━━━━━━━━━━━━━━━━━━━━━━━━━━━━━━━━━━━━━━\u001b[0m \u001b[32m47.8/47.8 MB\u001b[0m \u001b[31m14.5 MB/s\u001b[0m eta \u001b[36m0:00:00\u001b[0m\n",
            "\u001b[?25hRequirement already satisfied: pandas<2,>=1.0.0 in /usr/local/lib/python3.9/dist-packages (from quixstreams) (1.3.5)\n",
            "Collecting Deprecated<2,>=1.1\n",
            "  Downloading Deprecated-1.2.13-py2.py3-none-any.whl (9.6 kB)\n",
            "Requirement already satisfied: wrapt<2,>=1.10 in /usr/local/lib/python3.9/dist-packages (from Deprecated<2,>=1.1->quixstreams) (1.15.0)\n",
            "Requirement already satisfied: numpy>=1.17.3 in /usr/local/lib/python3.9/dist-packages (from pandas<2,>=1.0.0->quixstreams) (1.22.4)\n",
            "Requirement already satisfied: python-dateutil>=2.7.3 in /usr/local/lib/python3.9/dist-packages (from pandas<2,>=1.0.0->quixstreams) (2.8.2)\n",
            "Requirement already satisfied: pytz>=2017.3 in /usr/local/lib/python3.9/dist-packages (from pandas<2,>=1.0.0->quixstreams) (2022.7.1)\n",
            "Requirement already satisfied: six>=1.5 in /usr/local/lib/python3.9/dist-packages (from python-dateutil>=2.7.3->pandas<2,>=1.0.0->quixstreams) (1.15.0)\n",
            "Installing collected packages: Deprecated, quixstreams\n",
            "Successfully installed Deprecated-1.2.13 quixstreams-0.5.0\n"
          ]
        }
      ],
      "source": [
        "! pip install quixstreams"
      ]
    },
    {
      "cell_type": "markdown",
      "source": [
        "# Import the libraries\n",
        "We will be using mainly pandas, quix, matplotlib and seaborn."
      ],
      "metadata": {
        "id": "qgkdL-bxe1EE"
      }
    },
    {
      "cell_type": "code",
      "source": [
        "import pandas as pd\n",
        "import quixstreams as qx"
      ],
      "metadata": {
        "id": "TPppt6CqezXE"
      },
      "execution_count": null,
      "outputs": []
    },
    {
      "cell_type": "markdown",
      "source": [
        "# 1 - Create client\n",
        "Let's start by creating a Quix client that we'll use to publish and subscribe to Kafka topics."
      ],
      "metadata": {
        "id": "TCsYuP_ciF04"
      }
    },
    {
      "cell_type": "code",
      "source": [
        "token = 'sdk-296f2b9decff4770a525ff7d8855a78d'\n",
        "client = qx.QuixStreamingClient(token)\n",
        "# client.api_url = \"https://portal-api.dev.quix.ai\"\n",
        "client"
      ],
      "metadata": {
        "id": "IIaACdc_e5MM",
        "colab": {
          "base_uri": "https://localhost:8080/"
        },
        "outputId": "0fd8cfa4-24a8-4678-bfef-d4fae735287c"
      },
      "execution_count": null,
      "outputs": [
        {
          "output_type": "execute_result",
          "data": {
            "text/plain": [
              "<quixstreams.quixstreamingclient.QuixStreamingClient at 0x7f034cbfc6d0>"
            ]
          },
          "metadata": {},
          "execution_count": 4
        }
      ]
    },
    {
      "cell_type": "markdown",
      "source": [
        "# 2 - Producer client\n",
        "To publish data to one topic, we will need to create a producer client pointing to that topic."
      ],
      "metadata": {
        "id": "tmIXVN2ow7e0"
      }
    },
    {
      "cell_type": "code",
      "source": [
        "topic_name = \"test-topic\"\n",
        "topic_producer = client.get_topic_producer(topic_name)\n",
        "topic_producer"
      ],
      "metadata": {
        "id": "4shtFNDUo6Qo",
        "colab": {
          "base_uri": "https://localhost:8080/"
        },
        "outputId": "5645cf6e-3f57-4f23-925f-4052c1f1037f"
      },
      "execution_count": null,
      "outputs": [
        {
          "output_type": "execute_result",
          "data": {
            "text/plain": [
              "<quixstreams.topicproducer.TopicProducer at 0x7f032c5be790>"
            ]
          },
          "metadata": {},
          "execution_count": 6
        }
      ]
    },
    {
      "cell_type": "markdown",
      "source": [
        "# 3 - Streams\n",
        "Streams are ways to distribute the messages load into a topic very efficiently, allowing escalation whilst ensuring chronolofical order. Streams are to topics what road lines are to highways. \n",
        "We don't need many streams yet, but let's see how they are created:"
      ],
      "metadata": {
        "id": "_prbdjkpyLU8"
      }
    },
    {
      "cell_type": "code",
      "source": [
        "stream_id = \"test-stream_1\"\n",
        "test_stream_1 = topic_producer.create_stream(stream_id)\n",
        "test_stream_1"
      ],
      "metadata": {
        "colab": {
          "base_uri": "https://localhost:8080/"
        },
        "id": "f7laCKv1xEe3",
        "outputId": "25054540-3192-4e02-a7af-aecbe21d8e27"
      },
      "execution_count": null,
      "outputs": [
        {
          "output_type": "execute_result",
          "data": {
            "text/plain": [
              "<quixstreams.streamproducer.StreamProducer at 0x7f032c27ca90>"
            ]
          },
          "metadata": {},
          "execution_count": 7
        }
      ]
    },
    {
      "cell_type": "code",
      "source": [
        "stream_id = \"test-stream_2\"\n",
        "test_stream_2 = topic_producer.create_stream(stream_id)\n",
        "test_stream_2"
      ],
      "metadata": {
        "colab": {
          "base_uri": "https://localhost:8080/"
        },
        "id": "NqaooLQXygNM",
        "outputId": "a60aead4-d0bd-4693-cc59-d97780913a9f"
      },
      "execution_count": null,
      "outputs": [
        {
          "output_type": "execute_result",
          "data": {
            "text/plain": [
              "<quixstreams.streamproducer.StreamProducer at 0x7f032c27cee0>"
            ]
          },
          "metadata": {},
          "execution_count": 8
        }
      ]
    },
    {
      "cell_type": "markdown",
      "source": [
        "You can add properties to streams, like names and metadata."
      ],
      "metadata": {
        "id": "WgVcZSxoyk7g"
      }
    },
    {
      "cell_type": "code",
      "source": [
        "test_stream_1.properties.name = \"Tutorial Test Stream 1\"\n",
        "test_stream_1.properties.metadata[\"Test Number\"] = \"1\"\n",
        "test_stream_2.properties.name = \"Tutorial Test Stream 2\"\n",
        "test_stream_2.properties.metadata[\"Test Number\"] = \"2\""
      ],
      "metadata": {
        "id": "JBqTqPUiyiwU"
      },
      "execution_count": null,
      "outputs": []
    },
    {
      "cell_type": "markdown",
      "source": [
        "# 4 - Data format\n",
        "There are two data formats Quix Stream can use to publish data to topics:"
      ],
      "metadata": {
        "id": "tkWGBTntypzc"
      }
    },
    {
      "cell_type": "markdown",
      "source": [
        "## 4.1 TimeseriesData\n",
        "TimeseriesData is the formal class in Quix Streams which represents a time series data packet in memory. The format consists of a list of Timestamps with their corresponding parameter names and values for each timestamp.\n",
        "\n",
        "You should imagine a TimeseriesData as a table where the Timestamp is the first column of that table and where the parameters are the columns for the values of that table."
      ],
      "metadata": {
        "id": "pziUUpTwDyrY"
      }
    },
    {
      "cell_type": "code",
      "source": [
        "# This dataframe follows the proper TimeseriesData format: timestamp and different parameters\n",
        "df = pd.DataFrame({\n",
        "    \"Timestamp\": [pd.Timestamp.now(), pd.Timestamp.now() + pd.Timedelta(\"5sec\")],\n",
        "    \"Param A\": [10, 20],\n",
        "    \"Column B\": [12, 9]\n",
        "})\n",
        "df"
      ],
      "metadata": {
        "colab": {
          "base_uri": "https://localhost:8080/",
          "height": 112
        },
        "id": "L_8jGMBry5u0",
        "outputId": "608079c3-8142-44eb-b855-e86f960679c7"
      },
      "execution_count": null,
      "outputs": [
        {
          "output_type": "execute_result",
          "data": {
            "text/plain": [
              "                   Timestamp  Param A  Column B\n",
              "0 2023-03-10 13:34:56.217320       10        12\n",
              "1 2023-03-10 13:35:01.217375       20         9"
            ],
            "text/html": [
              "\n",
              "  <div id=\"df-962ac5b7-a15f-4100-8b75-65236f884d16\">\n",
              "    <div class=\"colab-df-container\">\n",
              "      <div>\n",
              "<style scoped>\n",
              "    .dataframe tbody tr th:only-of-type {\n",
              "        vertical-align: middle;\n",
              "    }\n",
              "\n",
              "    .dataframe tbody tr th {\n",
              "        vertical-align: top;\n",
              "    }\n",
              "\n",
              "    .dataframe thead th {\n",
              "        text-align: right;\n",
              "    }\n",
              "</style>\n",
              "<table border=\"1\" class=\"dataframe\">\n",
              "  <thead>\n",
              "    <tr style=\"text-align: right;\">\n",
              "      <th></th>\n",
              "      <th>Timestamp</th>\n",
              "      <th>Param A</th>\n",
              "      <th>Column B</th>\n",
              "    </tr>\n",
              "  </thead>\n",
              "  <tbody>\n",
              "    <tr>\n",
              "      <th>0</th>\n",
              "      <td>2023-03-10 13:34:56.217320</td>\n",
              "      <td>10</td>\n",
              "      <td>12</td>\n",
              "    </tr>\n",
              "    <tr>\n",
              "      <th>1</th>\n",
              "      <td>2023-03-10 13:35:01.217375</td>\n",
              "      <td>20</td>\n",
              "      <td>9</td>\n",
              "    </tr>\n",
              "  </tbody>\n",
              "</table>\n",
              "</div>\n",
              "      <button class=\"colab-df-convert\" onclick=\"convertToInteractive('df-962ac5b7-a15f-4100-8b75-65236f884d16')\"\n",
              "              title=\"Convert this dataframe to an interactive table.\"\n",
              "              style=\"display:none;\">\n",
              "        \n",
              "  <svg xmlns=\"http://www.w3.org/2000/svg\" height=\"24px\"viewBox=\"0 0 24 24\"\n",
              "       width=\"24px\">\n",
              "    <path d=\"M0 0h24v24H0V0z\" fill=\"none\"/>\n",
              "    <path d=\"M18.56 5.44l.94 2.06.94-2.06 2.06-.94-2.06-.94-.94-2.06-.94 2.06-2.06.94zm-11 1L8.5 8.5l.94-2.06 2.06-.94-2.06-.94L8.5 2.5l-.94 2.06-2.06.94zm10 10l.94 2.06.94-2.06 2.06-.94-2.06-.94-.94-2.06-.94 2.06-2.06.94z\"/><path d=\"M17.41 7.96l-1.37-1.37c-.4-.4-.92-.59-1.43-.59-.52 0-1.04.2-1.43.59L10.3 9.45l-7.72 7.72c-.78.78-.78 2.05 0 2.83L4 21.41c.39.39.9.59 1.41.59.51 0 1.02-.2 1.41-.59l7.78-7.78 2.81-2.81c.8-.78.8-2.07 0-2.86zM5.41 20L4 18.59l7.72-7.72 1.47 1.35L5.41 20z\"/>\n",
              "  </svg>\n",
              "      </button>\n",
              "      \n",
              "  <style>\n",
              "    .colab-df-container {\n",
              "      display:flex;\n",
              "      flex-wrap:wrap;\n",
              "      gap: 12px;\n",
              "    }\n",
              "\n",
              "    .colab-df-convert {\n",
              "      background-color: #E8F0FE;\n",
              "      border: none;\n",
              "      border-radius: 50%;\n",
              "      cursor: pointer;\n",
              "      display: none;\n",
              "      fill: #1967D2;\n",
              "      height: 32px;\n",
              "      padding: 0 0 0 0;\n",
              "      width: 32px;\n",
              "    }\n",
              "\n",
              "    .colab-df-convert:hover {\n",
              "      background-color: #E2EBFA;\n",
              "      box-shadow: 0px 1px 2px rgba(60, 64, 67, 0.3), 0px 1px 3px 1px rgba(60, 64, 67, 0.15);\n",
              "      fill: #174EA6;\n",
              "    }\n",
              "\n",
              "    [theme=dark] .colab-df-convert {\n",
              "      background-color: #3B4455;\n",
              "      fill: #D2E3FC;\n",
              "    }\n",
              "\n",
              "    [theme=dark] .colab-df-convert:hover {\n",
              "      background-color: #434B5C;\n",
              "      box-shadow: 0px 1px 3px 1px rgba(0, 0, 0, 0.15);\n",
              "      filter: drop-shadow(0px 1px 2px rgba(0, 0, 0, 0.3));\n",
              "      fill: #FFFFFF;\n",
              "    }\n",
              "  </style>\n",
              "\n",
              "      <script>\n",
              "        const buttonEl =\n",
              "          document.querySelector('#df-962ac5b7-a15f-4100-8b75-65236f884d16 button.colab-df-convert');\n",
              "        buttonEl.style.display =\n",
              "          google.colab.kernel.accessAllowed ? 'block' : 'none';\n",
              "\n",
              "        async function convertToInteractive(key) {\n",
              "          const element = document.querySelector('#df-962ac5b7-a15f-4100-8b75-65236f884d16');\n",
              "          const dataTable =\n",
              "            await google.colab.kernel.invokeFunction('convertToInteractive',\n",
              "                                                     [key], {});\n",
              "          if (!dataTable) return;\n",
              "\n",
              "          const docLinkHtml = 'Like what you see? Visit the ' +\n",
              "            '<a target=\"_blank\" href=https://colab.research.google.com/notebooks/data_table.ipynb>data table notebook</a>'\n",
              "            + ' to learn more about interactive tables.';\n",
              "          element.innerHTML = '';\n",
              "          dataTable['output_type'] = 'display_data';\n",
              "          await google.colab.output.renderOutput(dataTable, element);\n",
              "          const docLink = document.createElement('div');\n",
              "          docLink.innerHTML = docLinkHtml;\n",
              "          element.appendChild(docLink);\n",
              "        }\n",
              "      </script>\n",
              "    </div>\n",
              "  </div>\n",
              "  "
            ]
          },
          "metadata": {},
          "execution_count": 9
        }
      ]
    },
    {
      "cell_type": "code",
      "source": [
        "# This is the actual way to define a qx.TimeseriesData object for that same data\n",
        "timeseries_data = qx.TimeseriesData()\n",
        "timeseries_data.add_timestamp(pd.Timestamp.now()) \\\n",
        "                .add_value(\"Param A\", 10) \\\n",
        "                .add_value(\"Column B\", 12)\n",
        "timeseries_data.add_timestamp(pd.Timestamp.now() + pd.Timedelta(\"5sec\")) \\\n",
        "                .add_value(\"Param A\", 20) \\\n",
        "                .add_value(\"Column B\", 9)"
      ],
      "metadata": {
        "colab": {
          "base_uri": "https://localhost:8080/"
        },
        "id": "LYXIM2hZy7yD",
        "outputId": "2d2a4a20-a60c-4a31-df6c-ba07b0e5d49f"
      },
      "execution_count": null,
      "outputs": [
        {
          "output_type": "execute_result",
          "data": {
            "text/plain": [
              "<quixstreams.models.timeseriesdatatimestamp.TimeseriesDataTimestamp at 0x7fab64667730>"
            ]
          },
          "metadata": {},
          "execution_count": 96
        }
      ]
    },
    {
      "cell_type": "markdown",
      "source": [
        "Conversions between qx.TimeseriesData and pd.Dataframe formats are easy:"
      ],
      "metadata": {
        "id": "bNCPG7xDEpd9"
      }
    },
    {
      "cell_type": "code",
      "source": [
        "timeseries_data.to_dataframe()"
      ],
      "metadata": {
        "colab": {
          "base_uri": "https://localhost:8080/",
          "height": 112
        },
        "id": "CQhqmdDIFTdt",
        "outputId": "b91ee2d9-6761-49fc-c75f-1d38028a964b"
      },
      "execution_count": null,
      "outputs": [
        {
          "output_type": "execute_result",
          "data": {
            "text/plain": [
              "             timestamp  Param A  Column B\n",
              "0  1678389096492070000     10.0      12.0\n",
              "1  1678389101492699000     20.0       9.0"
            ],
            "text/html": [
              "\n",
              "  <div id=\"df-b96419f3-eb2d-4f35-b28d-97a340f5e7df\">\n",
              "    <div class=\"colab-df-container\">\n",
              "      <div>\n",
              "<style scoped>\n",
              "    .dataframe tbody tr th:only-of-type {\n",
              "        vertical-align: middle;\n",
              "    }\n",
              "\n",
              "    .dataframe tbody tr th {\n",
              "        vertical-align: top;\n",
              "    }\n",
              "\n",
              "    .dataframe thead th {\n",
              "        text-align: right;\n",
              "    }\n",
              "</style>\n",
              "<table border=\"1\" class=\"dataframe\">\n",
              "  <thead>\n",
              "    <tr style=\"text-align: right;\">\n",
              "      <th></th>\n",
              "      <th>timestamp</th>\n",
              "      <th>Param A</th>\n",
              "      <th>Column B</th>\n",
              "    </tr>\n",
              "  </thead>\n",
              "  <tbody>\n",
              "    <tr>\n",
              "      <th>0</th>\n",
              "      <td>1678389096492070000</td>\n",
              "      <td>10.0</td>\n",
              "      <td>12.0</td>\n",
              "    </tr>\n",
              "    <tr>\n",
              "      <th>1</th>\n",
              "      <td>1678389101492699000</td>\n",
              "      <td>20.0</td>\n",
              "      <td>9.0</td>\n",
              "    </tr>\n",
              "  </tbody>\n",
              "</table>\n",
              "</div>\n",
              "      <button class=\"colab-df-convert\" onclick=\"convertToInteractive('df-b96419f3-eb2d-4f35-b28d-97a340f5e7df')\"\n",
              "              title=\"Convert this dataframe to an interactive table.\"\n",
              "              style=\"display:none;\">\n",
              "        \n",
              "  <svg xmlns=\"http://www.w3.org/2000/svg\" height=\"24px\"viewBox=\"0 0 24 24\"\n",
              "       width=\"24px\">\n",
              "    <path d=\"M0 0h24v24H0V0z\" fill=\"none\"/>\n",
              "    <path d=\"M18.56 5.44l.94 2.06.94-2.06 2.06-.94-2.06-.94-.94-2.06-.94 2.06-2.06.94zm-11 1L8.5 8.5l.94-2.06 2.06-.94-2.06-.94L8.5 2.5l-.94 2.06-2.06.94zm10 10l.94 2.06.94-2.06 2.06-.94-2.06-.94-.94-2.06-.94 2.06-2.06.94z\"/><path d=\"M17.41 7.96l-1.37-1.37c-.4-.4-.92-.59-1.43-.59-.52 0-1.04.2-1.43.59L10.3 9.45l-7.72 7.72c-.78.78-.78 2.05 0 2.83L4 21.41c.39.39.9.59 1.41.59.51 0 1.02-.2 1.41-.59l7.78-7.78 2.81-2.81c.8-.78.8-2.07 0-2.86zM5.41 20L4 18.59l7.72-7.72 1.47 1.35L5.41 20z\"/>\n",
              "  </svg>\n",
              "      </button>\n",
              "      \n",
              "  <style>\n",
              "    .colab-df-container {\n",
              "      display:flex;\n",
              "      flex-wrap:wrap;\n",
              "      gap: 12px;\n",
              "    }\n",
              "\n",
              "    .colab-df-convert {\n",
              "      background-color: #E8F0FE;\n",
              "      border: none;\n",
              "      border-radius: 50%;\n",
              "      cursor: pointer;\n",
              "      display: none;\n",
              "      fill: #1967D2;\n",
              "      height: 32px;\n",
              "      padding: 0 0 0 0;\n",
              "      width: 32px;\n",
              "    }\n",
              "\n",
              "    .colab-df-convert:hover {\n",
              "      background-color: #E2EBFA;\n",
              "      box-shadow: 0px 1px 2px rgba(60, 64, 67, 0.3), 0px 1px 3px 1px rgba(60, 64, 67, 0.15);\n",
              "      fill: #174EA6;\n",
              "    }\n",
              "\n",
              "    [theme=dark] .colab-df-convert {\n",
              "      background-color: #3B4455;\n",
              "      fill: #D2E3FC;\n",
              "    }\n",
              "\n",
              "    [theme=dark] .colab-df-convert:hover {\n",
              "      background-color: #434B5C;\n",
              "      box-shadow: 0px 1px 3px 1px rgba(0, 0, 0, 0.15);\n",
              "      filter: drop-shadow(0px 1px 2px rgba(0, 0, 0, 0.3));\n",
              "      fill: #FFFFFF;\n",
              "    }\n",
              "  </style>\n",
              "\n",
              "      <script>\n",
              "        const buttonEl =\n",
              "          document.querySelector('#df-b96419f3-eb2d-4f35-b28d-97a340f5e7df button.colab-df-convert');\n",
              "        buttonEl.style.display =\n",
              "          google.colab.kernel.accessAllowed ? 'block' : 'none';\n",
              "\n",
              "        async function convertToInteractive(key) {\n",
              "          const element = document.querySelector('#df-b96419f3-eb2d-4f35-b28d-97a340f5e7df');\n",
              "          const dataTable =\n",
              "            await google.colab.kernel.invokeFunction('convertToInteractive',\n",
              "                                                     [key], {});\n",
              "          if (!dataTable) return;\n",
              "\n",
              "          const docLinkHtml = 'Like what you see? Visit the ' +\n",
              "            '<a target=\"_blank\" href=https://colab.research.google.com/notebooks/data_table.ipynb>data table notebook</a>'\n",
              "            + ' to learn more about interactive tables.';\n",
              "          element.innerHTML = '';\n",
              "          dataTable['output_type'] = 'display_data';\n",
              "          await google.colab.output.renderOutput(dataTable, element);\n",
              "          const docLink = document.createElement('div');\n",
              "          docLink.innerHTML = docLinkHtml;\n",
              "          element.appendChild(docLink);\n",
              "        }\n",
              "      </script>\n",
              "    </div>\n",
              "  </div>\n",
              "  "
            ]
          },
          "metadata": {},
          "execution_count": 97
        }
      ]
    },
    {
      "cell_type": "code",
      "source": [
        "qx.TimeseriesData.from_panda_dataframe(df)"
      ],
      "metadata": {
        "colab": {
          "base_uri": "https://localhost:8080/"
        },
        "id": "rmFthI9aFZBm",
        "outputId": "433fbb52-2a45-4dec-d7cd-5cf0ba4bd4dc"
      },
      "execution_count": null,
      "outputs": [
        {
          "output_type": "execute_result",
          "data": {
            "text/plain": [
              "<quixstreams.models.timeseriesdata.TimeseriesData at 0x7fab64667ca0>"
            ]
          },
          "metadata": {},
          "execution_count": 98
        }
      ]
    },
    {
      "cell_type": "markdown",
      "source": [
        "## 4.2 EventData\n",
        "EventData consists of a record with a Timestamp, an EventId and an EventValue.\n",
        "\n",
        "You should imagine a list of EventData instances as a simple table of three columns where the Timestamp is the first column of that table and the EventId and EventValue are the second and third columns, as shown in the following table."
      ],
      "metadata": {
        "id": "qhnoFDqnGDFC"
      }
    },
    {
      "cell_type": "code",
      "source": [
        "event_data_1 = qx.EventData(\n",
        "    event_id = \"Door Open\", \n",
        "    time = pd.Timestamp.now(), \n",
        "    value = \"The front door of the house has just been open\")\n",
        "event_data_1"
      ],
      "metadata": {
        "colab": {
          "base_uri": "https://localhost:8080/"
        },
        "id": "wF-JFukAGZ6r",
        "outputId": "427afe16-83df-4866-ba7f-3ea5733d0ad6"
      },
      "execution_count": null,
      "outputs": [
        {
          "output_type": "execute_result",
          "data": {
            "text/plain": [
              "<quixstreams.models.eventdata.EventData at 0x7fab6465d6a0>"
            ]
          },
          "metadata": {},
          "execution_count": 99
        }
      ]
    },
    {
      "cell_type": "code",
      "source": [
        "event_data_2 = qx.EventData(\n",
        "    event_id = \"Door Closed\", \n",
        "    time = pd.Timestamp.now(), \n",
        "    value = \"The front door of the house is back to closed state\")\n",
        "event_data_2"
      ],
      "metadata": {
        "colab": {
          "base_uri": "https://localhost:8080/"
        },
        "id": "yXdNwC0GGZ-Z",
        "outputId": "9775c31d-5601-4220-ce24-f17cd0958d0a"
      },
      "execution_count": null,
      "outputs": [
        {
          "output_type": "execute_result",
          "data": {
            "text/plain": [
              "<quixstreams.models.eventdata.EventData at 0x7fab6465d760>"
            ]
          },
          "metadata": {},
          "execution_count": 100
        }
      ]
    },
    {
      "cell_type": "markdown",
      "source": [
        "# 5 - Publish data to the topic\n",
        "Let's publish each of the data messages created to one stream now:"
      ],
      "metadata": {
        "id": "ZhouyK-BzDWf"
      }
    },
    {
      "cell_type": "markdown",
      "source": [
        "## 5.1 TimeseriesData\n",
        "Let's see how to publish the TimeseriesData object we created earlier."
      ],
      "metadata": {
        "id": "wBOjJxFgJk6y"
      }
    },
    {
      "cell_type": "code",
      "source": [
        "timeseries_data"
      ],
      "metadata": {
        "colab": {
          "base_uri": "https://localhost:8080/"
        },
        "id": "pHNFKRBeJ-xF",
        "outputId": "ea4428bd-e9a6-427c-afe5-d2795e76a2b5"
      },
      "execution_count": null,
      "outputs": [
        {
          "output_type": "execute_result",
          "data": {
            "text/plain": [
              "<quixstreams.models.timeseriesdata.TimeseriesData at 0x7fab64667400>"
            ]
          },
          "metadata": {},
          "execution_count": 101
        }
      ]
    },
    {
      "cell_type": "code",
      "source": [
        "# Publishing it to stream 1\n",
        "test_stream_1.timeseries.publish(timeseries_data)"
      ],
      "metadata": {
        "id": "fWhWnjNUy-7o"
      },
      "execution_count": null,
      "outputs": []
    },
    {
      "cell_type": "code",
      "source": [
        "# Publishing it to stream 2\n",
        "test_stream_2.timeseries.publish(timeseries_data)"
      ],
      "metadata": {
        "id": "3X_oCsUbzTDy"
      },
      "execution_count": null,
      "outputs": []
    },
    {
      "cell_type": "code",
      "source": [
        "# Also, pd.DataFrame objects can be published very simply  \n",
        "# (conversion to qx.TimeseriesData object is done automatically)\n",
        "df"
      ],
      "metadata": {
        "colab": {
          "base_uri": "https://localhost:8080/",
          "height": 112
        },
        "id": "CmcLJIssKKPO",
        "outputId": "03d10e7c-aaee-4cef-cc9a-3d87b7950f55"
      },
      "execution_count": null,
      "outputs": [
        {
          "output_type": "execute_result",
          "data": {
            "text/plain": [
              "                   Timestamp  Param A  Column B\n",
              "0 2023-03-09 19:11:35.939881       10        12\n",
              "1 2023-03-09 19:11:40.940005       20         9"
            ],
            "text/html": [
              "\n",
              "  <div id=\"df-0a44dd4c-74ad-4e94-bce6-2a9b39c962b3\">\n",
              "    <div class=\"colab-df-container\">\n",
              "      <div>\n",
              "<style scoped>\n",
              "    .dataframe tbody tr th:only-of-type {\n",
              "        vertical-align: middle;\n",
              "    }\n",
              "\n",
              "    .dataframe tbody tr th {\n",
              "        vertical-align: top;\n",
              "    }\n",
              "\n",
              "    .dataframe thead th {\n",
              "        text-align: right;\n",
              "    }\n",
              "</style>\n",
              "<table border=\"1\" class=\"dataframe\">\n",
              "  <thead>\n",
              "    <tr style=\"text-align: right;\">\n",
              "      <th></th>\n",
              "      <th>Timestamp</th>\n",
              "      <th>Param A</th>\n",
              "      <th>Column B</th>\n",
              "    </tr>\n",
              "  </thead>\n",
              "  <tbody>\n",
              "    <tr>\n",
              "      <th>0</th>\n",
              "      <td>2023-03-09 19:11:35.939881</td>\n",
              "      <td>10</td>\n",
              "      <td>12</td>\n",
              "    </tr>\n",
              "    <tr>\n",
              "      <th>1</th>\n",
              "      <td>2023-03-09 19:11:40.940005</td>\n",
              "      <td>20</td>\n",
              "      <td>9</td>\n",
              "    </tr>\n",
              "  </tbody>\n",
              "</table>\n",
              "</div>\n",
              "      <button class=\"colab-df-convert\" onclick=\"convertToInteractive('df-0a44dd4c-74ad-4e94-bce6-2a9b39c962b3')\"\n",
              "              title=\"Convert this dataframe to an interactive table.\"\n",
              "              style=\"display:none;\">\n",
              "        \n",
              "  <svg xmlns=\"http://www.w3.org/2000/svg\" height=\"24px\"viewBox=\"0 0 24 24\"\n",
              "       width=\"24px\">\n",
              "    <path d=\"M0 0h24v24H0V0z\" fill=\"none\"/>\n",
              "    <path d=\"M18.56 5.44l.94 2.06.94-2.06 2.06-.94-2.06-.94-.94-2.06-.94 2.06-2.06.94zm-11 1L8.5 8.5l.94-2.06 2.06-.94-2.06-.94L8.5 2.5l-.94 2.06-2.06.94zm10 10l.94 2.06.94-2.06 2.06-.94-2.06-.94-.94-2.06-.94 2.06-2.06.94z\"/><path d=\"M17.41 7.96l-1.37-1.37c-.4-.4-.92-.59-1.43-.59-.52 0-1.04.2-1.43.59L10.3 9.45l-7.72 7.72c-.78.78-.78 2.05 0 2.83L4 21.41c.39.39.9.59 1.41.59.51 0 1.02-.2 1.41-.59l7.78-7.78 2.81-2.81c.8-.78.8-2.07 0-2.86zM5.41 20L4 18.59l7.72-7.72 1.47 1.35L5.41 20z\"/>\n",
              "  </svg>\n",
              "      </button>\n",
              "      \n",
              "  <style>\n",
              "    .colab-df-container {\n",
              "      display:flex;\n",
              "      flex-wrap:wrap;\n",
              "      gap: 12px;\n",
              "    }\n",
              "\n",
              "    .colab-df-convert {\n",
              "      background-color: #E8F0FE;\n",
              "      border: none;\n",
              "      border-radius: 50%;\n",
              "      cursor: pointer;\n",
              "      display: none;\n",
              "      fill: #1967D2;\n",
              "      height: 32px;\n",
              "      padding: 0 0 0 0;\n",
              "      width: 32px;\n",
              "    }\n",
              "\n",
              "    .colab-df-convert:hover {\n",
              "      background-color: #E2EBFA;\n",
              "      box-shadow: 0px 1px 2px rgba(60, 64, 67, 0.3), 0px 1px 3px 1px rgba(60, 64, 67, 0.15);\n",
              "      fill: #174EA6;\n",
              "    }\n",
              "\n",
              "    [theme=dark] .colab-df-convert {\n",
              "      background-color: #3B4455;\n",
              "      fill: #D2E3FC;\n",
              "    }\n",
              "\n",
              "    [theme=dark] .colab-df-convert:hover {\n",
              "      background-color: #434B5C;\n",
              "      box-shadow: 0px 1px 3px 1px rgba(0, 0, 0, 0.15);\n",
              "      filter: drop-shadow(0px 1px 2px rgba(0, 0, 0, 0.3));\n",
              "      fill: #FFFFFF;\n",
              "    }\n",
              "  </style>\n",
              "\n",
              "      <script>\n",
              "        const buttonEl =\n",
              "          document.querySelector('#df-0a44dd4c-74ad-4e94-bce6-2a9b39c962b3 button.colab-df-convert');\n",
              "        buttonEl.style.display =\n",
              "          google.colab.kernel.accessAllowed ? 'block' : 'none';\n",
              "\n",
              "        async function convertToInteractive(key) {\n",
              "          const element = document.querySelector('#df-0a44dd4c-74ad-4e94-bce6-2a9b39c962b3');\n",
              "          const dataTable =\n",
              "            await google.colab.kernel.invokeFunction('convertToInteractive',\n",
              "                                                     [key], {});\n",
              "          if (!dataTable) return;\n",
              "\n",
              "          const docLinkHtml = 'Like what you see? Visit the ' +\n",
              "            '<a target=\"_blank\" href=https://colab.research.google.com/notebooks/data_table.ipynb>data table notebook</a>'\n",
              "            + ' to learn more about interactive tables.';\n",
              "          element.innerHTML = '';\n",
              "          dataTable['output_type'] = 'display_data';\n",
              "          await google.colab.output.renderOutput(dataTable, element);\n",
              "          const docLink = document.createElement('div');\n",
              "          docLink.innerHTML = docLinkHtml;\n",
              "          element.appendChild(docLink);\n",
              "        }\n",
              "      </script>\n",
              "    </div>\n",
              "  </div>\n",
              "  "
            ]
          },
          "metadata": {},
          "execution_count": 105
        }
      ]
    },
    {
      "cell_type": "code",
      "source": [
        "# Publishing it to stream 1\n",
        "test_stream_1.timeseries.publish(df)"
      ],
      "metadata": {
        "id": "z6usi8vrKKS4"
      },
      "execution_count": null,
      "outputs": []
    },
    {
      "cell_type": "code",
      "source": [
        "# Publishing it to stream 2\n",
        "test_stream_2.timeseries.publish(df)"
      ],
      "metadata": {
        "id": "keWsPXALKbts"
      },
      "execution_count": null,
      "outputs": []
    },
    {
      "cell_type": "markdown",
      "source": [
        "## 5.2 EventData\n",
        "Let's now publish the EventData messages we created earlier:"
      ],
      "metadata": {
        "id": "XPnmPr3TKiTN"
      }
    },
    {
      "cell_type": "code",
      "source": [
        "# Publishing event 1 to stream 1\n",
        "test_stream_1.events.publish(event_data_1)"
      ],
      "metadata": {
        "id": "g2B4GTRKKrq3"
      },
      "execution_count": null,
      "outputs": []
    },
    {
      "cell_type": "code",
      "source": [
        "# Publishing event 1 to stream 2\n",
        "test_stream_1.events.publish(event_data_1)"
      ],
      "metadata": {
        "id": "jNVk1E9xKruI"
      },
      "execution_count": null,
      "outputs": []
    },
    {
      "cell_type": "code",
      "source": [
        "# Publishing event 2 to stream 1\n",
        "test_stream_1.events.publish(event_data_2)"
      ],
      "metadata": {
        "id": "exESN567K2gR"
      },
      "execution_count": null,
      "outputs": []
    },
    {
      "cell_type": "code",
      "source": [
        "# Publishing event 2 to stream 2\n",
        "test_stream_2.events.publish(event_data_2)"
      ],
      "metadata": {
        "id": "o1LcgdiTK8Gp"
      },
      "execution_count": null,
      "outputs": []
    },
    {
      "cell_type": "markdown",
      "source": [
        "# 6 - Publishing a csv\n",
        "\n",
        "'time', 'timestamp', 'datetime' or first integer\n",
        "\n",
        "https://www.kaggle.com/datasets/taranvee/smart-home-dataset-with-weather-information"
      ],
      "metadata": {
        "id": "tGUez6fsLxM6"
      }
    },
    {
      "cell_type": "code",
      "source": [
        "csv_url = \"https://raw.githubusercontent.com/JotaBlanco/Telemetry-Data/main/Datasets/IoT_home_data_sample.csv\"\n",
        "\n",
        "df = pd.read_csv(csv_url)\n",
        "df.head()"
      ],
      "metadata": {
        "colab": {
          "base_uri": "https://localhost:8080/",
          "height": 334
        },
        "id": "ymZKNMcdnuc2",
        "outputId": "1ada497e-a541-435d-e289-556abbecbfc5"
      },
      "execution_count": null,
      "outputs": [
        {
          "output_type": "execute_result",
          "data": {
            "text/plain": [
              "         time  use [kW]  gen [kW]  House overall [kW]  Dishwasher [kW]  \\\n",
              "0  1452036690  0.673550  0.042183            0.673550         0.000017   \n",
              "1  1452036691  0.658683  0.043633            0.658683         0.000000   \n",
              "2  1452036692  0.658417  0.044217            0.658417         0.000000   \n",
              "3  1452036693  0.656833  0.045233            0.656833         0.000017   \n",
              "4  1452036694  0.553150  0.046667            0.553150         0.000000   \n",
              "\n",
              "   Furnace 1 [kW]  Furnace 2 [kW]  Home office [kW]  Fridge [kW]  \\\n",
              "0        0.020533        0.065133          0.040833     0.113383   \n",
              "1        0.020567        0.065583          0.040800     0.113267   \n",
              "2        0.020600        0.066250          0.040800     0.113100   \n",
              "3        0.020617        0.065983          0.040817     0.113083   \n",
              "4        0.020650        0.065033          0.040733     0.112933   \n",
              "\n",
              "   Wine cellar [kW]  ...  visibility  summary  apparentTemperature  pressure  \\\n",
              "0          0.008050  ...        10.0    Clear                35.13   1017.59   \n",
              "1          0.007917  ...        10.0    Clear                35.13   1017.59   \n",
              "2          0.008033  ...        10.0    Clear                35.13   1017.59   \n",
              "3          0.007967  ...        10.0    Clear                35.13   1017.59   \n",
              "4          0.007983  ...        10.0    Clear                35.13   1017.59   \n",
              "\n",
              "   windSpeed  cloudCover  windBearing  precipIntensity  dewPoint  \\\n",
              "0       6.69         0.0        254.0              0.0     30.58   \n",
              "1       6.69         0.0        254.0              0.0     30.58   \n",
              "2       6.69         0.0        254.0              0.0     30.58   \n",
              "3       6.69         0.0        254.0              0.0     30.58   \n",
              "4       6.69         0.0        254.0              0.0     30.58   \n",
              "\n",
              "   precipProbability  \n",
              "0                0.0  \n",
              "1                0.0  \n",
              "2                0.0  \n",
              "3                0.0  \n",
              "4                0.0  \n",
              "\n",
              "[5 rows x 32 columns]"
            ],
            "text/html": [
              "\n",
              "  <div id=\"df-129112c6-d97b-4cc4-b3b8-444082cd7c0c\">\n",
              "    <div class=\"colab-df-container\">\n",
              "      <div>\n",
              "<style scoped>\n",
              "    .dataframe tbody tr th:only-of-type {\n",
              "        vertical-align: middle;\n",
              "    }\n",
              "\n",
              "    .dataframe tbody tr th {\n",
              "        vertical-align: top;\n",
              "    }\n",
              "\n",
              "    .dataframe thead th {\n",
              "        text-align: right;\n",
              "    }\n",
              "</style>\n",
              "<table border=\"1\" class=\"dataframe\">\n",
              "  <thead>\n",
              "    <tr style=\"text-align: right;\">\n",
              "      <th></th>\n",
              "      <th>time</th>\n",
              "      <th>use [kW]</th>\n",
              "      <th>gen [kW]</th>\n",
              "      <th>House overall [kW]</th>\n",
              "      <th>Dishwasher [kW]</th>\n",
              "      <th>Furnace 1 [kW]</th>\n",
              "      <th>Furnace 2 [kW]</th>\n",
              "      <th>Home office [kW]</th>\n",
              "      <th>Fridge [kW]</th>\n",
              "      <th>Wine cellar [kW]</th>\n",
              "      <th>...</th>\n",
              "      <th>visibility</th>\n",
              "      <th>summary</th>\n",
              "      <th>apparentTemperature</th>\n",
              "      <th>pressure</th>\n",
              "      <th>windSpeed</th>\n",
              "      <th>cloudCover</th>\n",
              "      <th>windBearing</th>\n",
              "      <th>precipIntensity</th>\n",
              "      <th>dewPoint</th>\n",
              "      <th>precipProbability</th>\n",
              "    </tr>\n",
              "  </thead>\n",
              "  <tbody>\n",
              "    <tr>\n",
              "      <th>0</th>\n",
              "      <td>1452036690</td>\n",
              "      <td>0.673550</td>\n",
              "      <td>0.042183</td>\n",
              "      <td>0.673550</td>\n",
              "      <td>0.000017</td>\n",
              "      <td>0.020533</td>\n",
              "      <td>0.065133</td>\n",
              "      <td>0.040833</td>\n",
              "      <td>0.113383</td>\n",
              "      <td>0.008050</td>\n",
              "      <td>...</td>\n",
              "      <td>10.0</td>\n",
              "      <td>Clear</td>\n",
              "      <td>35.13</td>\n",
              "      <td>1017.59</td>\n",
              "      <td>6.69</td>\n",
              "      <td>0.0</td>\n",
              "      <td>254.0</td>\n",
              "      <td>0.0</td>\n",
              "      <td>30.58</td>\n",
              "      <td>0.0</td>\n",
              "    </tr>\n",
              "    <tr>\n",
              "      <th>1</th>\n",
              "      <td>1452036691</td>\n",
              "      <td>0.658683</td>\n",
              "      <td>0.043633</td>\n",
              "      <td>0.658683</td>\n",
              "      <td>0.000000</td>\n",
              "      <td>0.020567</td>\n",
              "      <td>0.065583</td>\n",
              "      <td>0.040800</td>\n",
              "      <td>0.113267</td>\n",
              "      <td>0.007917</td>\n",
              "      <td>...</td>\n",
              "      <td>10.0</td>\n",
              "      <td>Clear</td>\n",
              "      <td>35.13</td>\n",
              "      <td>1017.59</td>\n",
              "      <td>6.69</td>\n",
              "      <td>0.0</td>\n",
              "      <td>254.0</td>\n",
              "      <td>0.0</td>\n",
              "      <td>30.58</td>\n",
              "      <td>0.0</td>\n",
              "    </tr>\n",
              "    <tr>\n",
              "      <th>2</th>\n",
              "      <td>1452036692</td>\n",
              "      <td>0.658417</td>\n",
              "      <td>0.044217</td>\n",
              "      <td>0.658417</td>\n",
              "      <td>0.000000</td>\n",
              "      <td>0.020600</td>\n",
              "      <td>0.066250</td>\n",
              "      <td>0.040800</td>\n",
              "      <td>0.113100</td>\n",
              "      <td>0.008033</td>\n",
              "      <td>...</td>\n",
              "      <td>10.0</td>\n",
              "      <td>Clear</td>\n",
              "      <td>35.13</td>\n",
              "      <td>1017.59</td>\n",
              "      <td>6.69</td>\n",
              "      <td>0.0</td>\n",
              "      <td>254.0</td>\n",
              "      <td>0.0</td>\n",
              "      <td>30.58</td>\n",
              "      <td>0.0</td>\n",
              "    </tr>\n",
              "    <tr>\n",
              "      <th>3</th>\n",
              "      <td>1452036693</td>\n",
              "      <td>0.656833</td>\n",
              "      <td>0.045233</td>\n",
              "      <td>0.656833</td>\n",
              "      <td>0.000017</td>\n",
              "      <td>0.020617</td>\n",
              "      <td>0.065983</td>\n",
              "      <td>0.040817</td>\n",
              "      <td>0.113083</td>\n",
              "      <td>0.007967</td>\n",
              "      <td>...</td>\n",
              "      <td>10.0</td>\n",
              "      <td>Clear</td>\n",
              "      <td>35.13</td>\n",
              "      <td>1017.59</td>\n",
              "      <td>6.69</td>\n",
              "      <td>0.0</td>\n",
              "      <td>254.0</td>\n",
              "      <td>0.0</td>\n",
              "      <td>30.58</td>\n",
              "      <td>0.0</td>\n",
              "    </tr>\n",
              "    <tr>\n",
              "      <th>4</th>\n",
              "      <td>1452036694</td>\n",
              "      <td>0.553150</td>\n",
              "      <td>0.046667</td>\n",
              "      <td>0.553150</td>\n",
              "      <td>0.000000</td>\n",
              "      <td>0.020650</td>\n",
              "      <td>0.065033</td>\n",
              "      <td>0.040733</td>\n",
              "      <td>0.112933</td>\n",
              "      <td>0.007983</td>\n",
              "      <td>...</td>\n",
              "      <td>10.0</td>\n",
              "      <td>Clear</td>\n",
              "      <td>35.13</td>\n",
              "      <td>1017.59</td>\n",
              "      <td>6.69</td>\n",
              "      <td>0.0</td>\n",
              "      <td>254.0</td>\n",
              "      <td>0.0</td>\n",
              "      <td>30.58</td>\n",
              "      <td>0.0</td>\n",
              "    </tr>\n",
              "  </tbody>\n",
              "</table>\n",
              "<p>5 rows × 32 columns</p>\n",
              "</div>\n",
              "      <button class=\"colab-df-convert\" onclick=\"convertToInteractive('df-129112c6-d97b-4cc4-b3b8-444082cd7c0c')\"\n",
              "              title=\"Convert this dataframe to an interactive table.\"\n",
              "              style=\"display:none;\">\n",
              "        \n",
              "  <svg xmlns=\"http://www.w3.org/2000/svg\" height=\"24px\"viewBox=\"0 0 24 24\"\n",
              "       width=\"24px\">\n",
              "    <path d=\"M0 0h24v24H0V0z\" fill=\"none\"/>\n",
              "    <path d=\"M18.56 5.44l.94 2.06.94-2.06 2.06-.94-2.06-.94-.94-2.06-.94 2.06-2.06.94zm-11 1L8.5 8.5l.94-2.06 2.06-.94-2.06-.94L8.5 2.5l-.94 2.06-2.06.94zm10 10l.94 2.06.94-2.06 2.06-.94-2.06-.94-.94-2.06-.94 2.06-2.06.94z\"/><path d=\"M17.41 7.96l-1.37-1.37c-.4-.4-.92-.59-1.43-.59-.52 0-1.04.2-1.43.59L10.3 9.45l-7.72 7.72c-.78.78-.78 2.05 0 2.83L4 21.41c.39.39.9.59 1.41.59.51 0 1.02-.2 1.41-.59l7.78-7.78 2.81-2.81c.8-.78.8-2.07 0-2.86zM5.41 20L4 18.59l7.72-7.72 1.47 1.35L5.41 20z\"/>\n",
              "  </svg>\n",
              "      </button>\n",
              "      \n",
              "  <style>\n",
              "    .colab-df-container {\n",
              "      display:flex;\n",
              "      flex-wrap:wrap;\n",
              "      gap: 12px;\n",
              "    }\n",
              "\n",
              "    .colab-df-convert {\n",
              "      background-color: #E8F0FE;\n",
              "      border: none;\n",
              "      border-radius: 50%;\n",
              "      cursor: pointer;\n",
              "      display: none;\n",
              "      fill: #1967D2;\n",
              "      height: 32px;\n",
              "      padding: 0 0 0 0;\n",
              "      width: 32px;\n",
              "    }\n",
              "\n",
              "    .colab-df-convert:hover {\n",
              "      background-color: #E2EBFA;\n",
              "      box-shadow: 0px 1px 2px rgba(60, 64, 67, 0.3), 0px 1px 3px 1px rgba(60, 64, 67, 0.15);\n",
              "      fill: #174EA6;\n",
              "    }\n",
              "\n",
              "    [theme=dark] .colab-df-convert {\n",
              "      background-color: #3B4455;\n",
              "      fill: #D2E3FC;\n",
              "    }\n",
              "\n",
              "    [theme=dark] .colab-df-convert:hover {\n",
              "      background-color: #434B5C;\n",
              "      box-shadow: 0px 1px 3px 1px rgba(0, 0, 0, 0.15);\n",
              "      filter: drop-shadow(0px 1px 2px rgba(0, 0, 0, 0.3));\n",
              "      fill: #FFFFFF;\n",
              "    }\n",
              "  </style>\n",
              "\n",
              "      <script>\n",
              "        const buttonEl =\n",
              "          document.querySelector('#df-129112c6-d97b-4cc4-b3b8-444082cd7c0c button.colab-df-convert');\n",
              "        buttonEl.style.display =\n",
              "          google.colab.kernel.accessAllowed ? 'block' : 'none';\n",
              "\n",
              "        async function convertToInteractive(key) {\n",
              "          const element = document.querySelector('#df-129112c6-d97b-4cc4-b3b8-444082cd7c0c');\n",
              "          const dataTable =\n",
              "            await google.colab.kernel.invokeFunction('convertToInteractive',\n",
              "                                                     [key], {});\n",
              "          if (!dataTable) return;\n",
              "\n",
              "          const docLinkHtml = 'Like what you see? Visit the ' +\n",
              "            '<a target=\"_blank\" href=https://colab.research.google.com/notebooks/data_table.ipynb>data table notebook</a>'\n",
              "            + ' to learn more about interactive tables.';\n",
              "          element.innerHTML = '';\n",
              "          dataTable['output_type'] = 'display_data';\n",
              "          await google.colab.output.renderOutput(dataTable, element);\n",
              "          const docLink = document.createElement('div');\n",
              "          docLink.innerHTML = docLinkHtml;\n",
              "          element.appendChild(docLink);\n",
              "        }\n",
              "      </script>\n",
              "    </div>\n",
              "  </div>\n",
              "  "
            ]
          },
          "metadata": {},
          "execution_count": 23
        }
      ]
    },
    {
      "cell_type": "code",
      "source": [
        "q"
      ],
      "metadata": {
        "id": "UEnFg1kjnugN"
      },
      "execution_count": null,
      "outputs": []
    },
    {
      "cell_type": "code",
      "source": [],
      "metadata": {
        "id": "oRPPBAM-nuj3"
      },
      "execution_count": null,
      "outputs": []
    },
    {
      "cell_type": "markdown",
      "source": [
        "##2.5 - Pusblish random data"
      ],
      "metadata": {
        "id": "5a70dI6KADHo"
      }
    },
    {
      "cell_type": "code",
      "source": [
        "import random"
      ],
      "metadata": {
        "id": "YE5NZey1AXR3"
      },
      "execution_count": null,
      "outputs": []
    },
    {
      "cell_type": "code",
      "source": [
        "df = pd.DataFrame({\n",
        "    \"Timestamp\": [pd.Timestamp.now()],\n",
        "    \"Param A\": [random.randint(10, 20)],\n",
        "    \"Param B\": [random.randint(0, 10)]\n",
        "})\n",
        "stream = random.choice([test_stream_1, test_stream_2])\n",
        "stream.timeseries.publish(df)"
      ],
      "metadata": {
        "id": "duFPUvR2AKBE"
      },
      "execution_count": null,
      "outputs": []
    },
    {
      "cell_type": "code",
      "source": [],
      "metadata": {
        "id": "aatFBlC5JnR_"
      },
      "execution_count": null,
      "outputs": []
    }
  ]
}