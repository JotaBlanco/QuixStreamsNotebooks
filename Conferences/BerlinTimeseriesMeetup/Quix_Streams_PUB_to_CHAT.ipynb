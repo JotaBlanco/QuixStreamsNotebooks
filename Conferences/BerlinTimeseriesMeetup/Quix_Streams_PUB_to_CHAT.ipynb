{
  "nbformat": 4,
  "nbformat_minor": 0,
  "metadata": {
    "colab": {
      "provenance": [],
      "toc_visible": true,
      "include_colab_link": true
    },
    "kernelspec": {
      "name": "python3",
      "display_name": "Python 3"
    },
    "language_info": {
      "name": "python"
    }
  },
  "cells": [
    {
      "cell_type": "markdown",
      "metadata": {
        "id": "view-in-github",
        "colab_type": "text"
      },
      "source": [
        "<a href=\"https://colab.research.google.com/github/JotaBlanco/QuixStreamsNotebooks/blob/main/Conferences/BerlinTimeseriesMeetup/Quix_Streams_PUB_to_CHAT.ipynb\" target=\"_parent\"><img src=\"https://colab.research.google.com/assets/colab-badge.svg\" alt=\"Open In Colab\"/></a>"
      ]
    },
    {
      "cell_type": "markdown",
      "source": [
        "# Install Quix Streams\n",
        "Just use pip install to download the Quix Streams library. \n",
        "\n",
        "[Quix Streams](https://github.com/quixio/quix-streams) is an open source Python library for processing streaming data. It’s aimed at people who work with time-series data streams — from developers and ML engineers to data scientists and data engineers."
      ],
      "metadata": {
        "id": "xIaLLhNZeuTK"
      }
    },
    {
      "cell_type": "code",
      "execution_count": null,
      "metadata": {
        "id": "rM8eAVmnepVy"
      },
      "outputs": [],
      "source": [
        "! pip install quixstreams"
      ]
    },
    {
      "cell_type": "markdown",
      "source": [
        "# Import the libraries\n",
        "We will be using mainly pandas, quix, matplotlib and seaborn."
      ],
      "metadata": {
        "id": "qgkdL-bxe1EE"
      }
    },
    {
      "cell_type": "code",
      "source": [
        "import pandas as pd\n",
        "import quixstreams as qx"
      ],
      "metadata": {
        "id": "TPppt6CqezXE"
      },
      "execution_count": null,
      "outputs": []
    },
    {
      "cell_type": "markdown",
      "source": [
        "# 1 - Create client\n",
        "Let's start by creating a Quix client that we'll use to publish and subscribe to Kafka topics."
      ],
      "metadata": {
        "id": "TCsYuP_ciF04"
      }
    },
    {
      "cell_type": "code",
      "source": [
        "# Initiating Quix managed token, but it could be your own kafka\n",
        "token = 'sdk-296f2b9decff4770a525ff7d8855a78d'\n",
        "client = qx.QuixStreamingClient(token)\n",
        "client"
      ],
      "metadata": {
        "id": "IIaACdc_e5MM"
      },
      "execution_count": null,
      "outputs": []
    },
    {
      "cell_type": "markdown",
      "source": [
        "# 2 - Producer client\n",
        "To publish data to one topic, we will need to create a producer client pointing to that topic, and then a stream within the topic."
      ],
      "metadata": {
        "id": "tmIXVN2ow7e0"
      }
    },
    {
      "cell_type": "code",
      "source": [
        "topic_name = \"chat-messages\"\n",
        "topic_producer = client.get_topic_producer(topic_name)\n",
        "topic_producer"
      ],
      "metadata": {
        "id": "4shtFNDUo6Qo"
      },
      "execution_count": null,
      "outputs": []
    },
    {
      "cell_type": "code",
      "source": [
        "stream_id = \"berlin timeseries meetup\"\n",
        "stream = topic_producer.get_or_create_stream(stream_id)\n",
        "stream"
      ],
      "metadata": {
        "id": "TRyARMKAXnpQ"
      },
      "execution_count": null,
      "outputs": []
    },
    {
      "cell_type": "markdown",
      "source": [
        "# 5 - Publish data to the topic\n",
        "Let's send a message to the chat:"
      ],
      "metadata": {
        "id": "ZhouyK-BzDWf"
      }
    },
    {
      "cell_type": "code",
      "source": [
        "# DEFINE THE MESSAGE IN THIS CELD\n",
        "\n",
        "# Add your name and message content here:\n",
        "nickname = \"Name Surname\"  \n",
        "message = \"Hello world from Colab\"\n",
        "\n",
        "# Defining dataframe\n",
        "df_message = pd.DataFrame({\n",
        "    \"timestamp\": [pd.Timestamp.now()],\n",
        "    \"chat-message\": [message],\n",
        "    \"TAG__name\": [nickname + \" - BOT\"],\n",
        "    \"TAG__room\": [stream_id]\n",
        "})\n",
        "\n",
        "df_message"
      ],
      "metadata": {
        "id": "pHNFKRBeJ-xF"
      },
      "execution_count": null,
      "outputs": []
    },
    {
      "cell_type": "code",
      "source": [
        "# Publish df_message to topic\n",
        "stream.timeseries.publish(df_message)"
      ],
      "metadata": {
        "id": "fWhWnjNUy-7o"
      },
      "execution_count": null,
      "outputs": []
    }
  ]
}